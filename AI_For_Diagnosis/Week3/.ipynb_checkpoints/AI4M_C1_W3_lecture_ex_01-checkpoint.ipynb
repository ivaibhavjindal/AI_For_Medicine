{
 "cells": [
  {
   "cell_type": "markdown",
   "metadata": {},
   "source": [
    "# AI4M Course 1 week 3 lecture notebook"
   ]
  },
  {
   "cell_type": "markdown",
   "metadata": {},
   "source": [
    "<a name=\"data\"></a>\n",
    "# Explore the data\n",
    "\n",
    "<img src=\"mri-slice.png\" alt=\"U-net Image\" width=\"300\"/>\n",
    "\n",
    "In this week's assignment, you'll be working with 3D MRI brain scans from the public [Medical Segmentation Decathlon](https://decathlon-10.grand-challenge.org/) challenge project. This is an incredibly rich dataset that provides you with labels associated with each point (voxel) inside a 3D representation of a patient's brain. Ultimately, in this week's assignment, you will train a neural network to make three-dimensional spatial segmentation predictions for common brain disorders. \n",
    "\n",
    "In this notebook, you're all set up to explore this exciting dataset. Run the code below and tweak it to explore further!"
   ]
  },
  {
   "cell_type": "markdown",
   "metadata": {},
   "source": [
    "### Import packages\n",
    "For this lab, you'll import some of the packages you've seen before (`numpy`, `matplotlib` and `seaborn`) as well as some new ones for reading (`nibabel`) and visualizing (`itk`, `itkwidgets`, `ipywidgets`) the data. Run the next cell to import these packages."
   ]
  },
  {
   "cell_type": "code",
   "execution_count": null,
   "metadata": {},
   "outputs": [],
   "source": [
    "# Import all the necessary packages\n",
    "import numpy as np\n",
    "import nibabel as nib\n",
    "import itk\n",
    "import itkwidgets\n",
    "from ipywidgets import interact, interactive, IntSlider, ToggleButtons\n",
    "import matplotlib.pyplot as plt\n",
    "%matplotlib inline\n",
    "import seaborn as sns\n",
    "sns.set_style('darkgrid')"
   ]
  },
  {
   "cell_type": "markdown",
   "metadata": {},
   "source": [
    "### Loading Images of the brain\n",
    "Run the next cell to grab a single 3D MRI brain scan"
   ]
  },
  {
   "cell_type": "code",
   "execution_count": null,
   "metadata": {},
   "outputs": [],
   "source": [
    "# Define the image path and load the data\n",
    "image_path = \"BraTS-Data/imagesTr/BRATS_001.nii.gz\"\n",
    "image_obj = nib.load(image_path)\n",
    "print(f'Type of the image {type(image_obj)}')"
   ]
  },
  {
   "cell_type": "markdown",
   "metadata": {},
   "source": [
    "### Extract the data as a numpy array\n",
    "Run the next cell to extract the data using the `get_fdata()` method of the image object"
   ]
  },
  {
   "cell_type": "code",
   "execution_count": null,
   "metadata": {},
   "outputs": [],
   "source": [
    "# Extract data as numpy ndarray\n",
    "image_data = image_obj.get_fdata()\n",
    "type(image_data)"
   ]
  },
  {
   "cell_type": "code",
   "execution_count": null,
   "metadata": {},
   "outputs": [],
   "source": [
    "# Get the image shape and print it out\n",
    "height, width, depth, channels = image_data.shape\n",
    "print(f\"The image object has the following dimensions: height: {height}, width:{width}, depth:{depth}, channels:{channels}\")"
   ]
  },
  {
   "cell_type": "markdown",
   "metadata": {},
   "source": [
    "As you can see these \"image objects\" are actually 4 dimensional! With the exploratory steps below you'll get a better sense of exactly what each of these dimensions represents.\n",
    "\n",
    "### Visualize the data\n",
    "The \"depth\" listed above indicates that there are 155 layers (slices through the brain) in every image object. To visualize a single layer, run the cell below. Note that if the layer is one of the first or the last (`i` near 0 or 154), you won't find much information and the screen will be dark. Run this cell multiple times to look at different layers. \n",
    "\n",
    "The code is set up to grab a random layer but you can select a specific layer by choosing a value for `i` from 0 to 154. You can also change which channel you're looking at by changing the `channel` variable.\n",
    "\n",
    "Keep in mind that you could just as easily look at slices of this image object along the height or width dimensions. If you wish to do so, just shift `i` to a different dimension in the `plt.imshow()` command below. Which slice direction looks the most interesting to you?"
   ]
  },
  {
   "cell_type": "code",
   "execution_count": null,
   "metadata": {},
   "outputs": [],
   "source": [
    "# Select random layer number\n",
    "maxval = 154\n",
    "i = np.random.randint(0, maxval)\n",
    "# Define a channel to look at\n",
    "channel = 0\n",
    "print(f\"Plotting Layer {i} Channel {channel} of Image\")\n",
    "plt.imshow(image_data[:, :, i, channel], cmap='gray')\n",
    "plt.axis('off');"
   ]
  },
  {
   "cell_type": "markdown",
   "metadata": {},
   "source": [
    "### Interactive exploration\n",
    "Another way to visualize this dataset is by using IPython Widgets to allow for an interactive exploration of the data. \n",
    "\n",
    "Run the next cell to explore across different layers of the data. Move the slider to explore different layers. Change the `channel` value to explore different channels. See if you can tell which layer corresponds to the top of the brain and which corresponds to the bottom!\n",
    "\n",
    "If you're feeling ambitious, try modifying the code below to slice along a different axis through the image object and look at other channels to see what you can discover!"
   ]
  },
  {
   "cell_type": "code",
   "execution_count": null,
   "metadata": {},
   "outputs": [],
   "source": [
    "# Define a function to visualize the data\n",
    "def explore_3dimage(layer):\n",
    "    plt.figure(figsize=(10, 5))\n",
    "    channel = 3\n",
    "    plt.imshow(image_data[:, :, layer, channel], cmap='gray');\n",
    "    plt.title('Explore Layers of Brain MRI', fontsize=20)\n",
    "    plt.axis('off')\n",
    "    return layer\n",
    "\n",
    "# Run the ipywidgets interact() function to explore the data\n",
    "interact(explore_3dimage, layer=(0, image_data.shape[2] - 1));"
   ]
  },
  {
   "cell_type": "markdown",
   "metadata": {},
   "source": [
    "### Explore the data labels\n",
    "In this section, you'll read in a new dataset containing the labels for the MRI scan you loaded above.\n",
    "\n",
    "Run the cell below to load the labels dataset for the image object you inspected above."
   ]
  },
  {
   "cell_type": "code",
   "execution_count": null,
   "metadata": {},
   "outputs": [],
   "source": [
    "# Define the data path and load the data\n",
    "label_path = \"./BraTS-Data/labelsTr/BRATS_001.nii.gz\"\n",
    "label_obj = nib.load(label_path)\n",
    "type(label_obj)"
   ]
  },
  {
   "cell_type": "markdown",
   "metadata": {},
   "source": [
    "### Extract the data as a numpy array\n",
    "Run the next cell to extract the data labels using the `get_fdata()` method of the image object"
   ]
  },
  {
   "cell_type": "code",
   "execution_count": null,
   "metadata": {},
   "outputs": [],
   "source": [
    "# Extract data labels\n",
    "label_array = label_obj.get_fdata()\n",
    "type(label_array)"
   ]
  },
  {
   "cell_type": "code",
   "execution_count": null,
   "metadata": {},
   "outputs": [],
   "source": [
    "# Extract and print out the shape of the labels data\n",
    "height, width, depth = label_array.shape\n",
    "print(f\"Dimensions of labels data array height: {height}, width: {width}, depth: {depth}\")\n",
    "print(f'With the unique values: {np.unique(label_array)}')\n",
    "print(\"\"\"Corresponding to the following label categories: \n",
    "0: for normal \n",
    "1: for edema\n",
    "2: for non-enhancing tumor \n",
    "3: for enhancing tumor\"\"\")\n"
   ]
  },
  {
   "cell_type": "markdown",
   "metadata": {},
   "source": [
    "### Visualize the labels for a specific layer\n",
    "Run the next cell to visualize a single layer of the labeled data. The code below is set up to show a single layer and you can set `i` to any value from 0 to 154 to look at a different layer. \n",
    "\n",
    "Note that if you choose a layer near 0 or 154 there might not be much to look at in the images."
   ]
  },
  {
   "cell_type": "code",
   "execution_count": null,
   "metadata": {},
   "outputs": [],
   "source": [
    "# Define a single layer for plotting\n",
    "layer = 50\n",
    "# Define a dictionary of class labels\n",
    "classes_dict = {\n",
    "    'Normal': 0.,\n",
    "    'Edema': 1.,\n",
    "    'Non-enhancing tumor': 2.,\n",
    "    'Enhancing tumor': 3. \n",
    "}\n",
    "# Set up for plotting\n",
    "fig, ax = plt.subplots(nrows=1, ncols=4, figsize=(50, 30))\n",
    "for i in range(4):\n",
    "    img_label_str = list(classes_dict.keys())[i]\n",
    "    img = label_array[:,:,layer]\n",
    "    mask = np.where(img == classes_dict[img_label_str], 255, 0)\n",
    "    ax[i].imshow(mask)\n",
    "    ax[i].set_title(f\"Layer {layer} for {img_label_str}\", fontsize=45)\n",
    "    ax[i].axis('off')\n",
    "plt.tight_layout()"
   ]
  },
  {
   "cell_type": "markdown",
   "metadata": {},
   "source": [
    "### Interactive visualization across layers\n",
    "As another way of looking at the data, run the code below to create a visualization where you can choose the class you want to look at by clicking a button to choose a particular label and scrolling across layers using the slider!"
   ]
  },
  {
   "cell_type": "code",
   "execution_count": null,
   "metadata": {},
   "outputs": [],
   "source": [
    "# Create button values\n",
    "select_class = ToggleButtons(\n",
    "    options=['Normal','Edema', 'Non-enhancing tumor', 'Enhancing tumor'],\n",
    "    description='Select Class:',\n",
    "    disabled=False,\n",
    "    button_style='info', \n",
    "    \n",
    ")\n",
    "# Create layer slider\n",
    "select_layer = IntSlider(min=0, max=154, description='Select Layer', continuous_update=False)\n",
    "\n",
    "    \n",
    "# Define a function for plotting images\n",
    "def plot_image(seg_class, layer):\n",
    "    print(f\"Plotting {layer} Layer Label: {seg_class}\")\n",
    "    img_label = classes_dict[seg_class]\n",
    "    mask = np.where(label_array[:,:,layer] == img_label, 255, 0)\n",
    "    plt.figure(figsize=(10,5))\n",
    "    plt.imshow(mask, cmap='gray')\n",
    "    plt.axis('off');\n",
    "\n",
    "# Use the interactive() tool to create the visualization\n",
    "interactive(plot_image, seg_class=select_class, layer=select_layer)"
   ]
  },
  {
   "cell_type": "markdown",
   "metadata": {},
   "source": [
    "#### And there you have it! We hope this lab has helped you get a better sense of the data you'll be working with in this week's assignment. "
   ]
  },
  {
   "cell_type": "code",
   "execution_count": null,
   "metadata": {},
   "outputs": [],
   "source": []
  }
 ],
 "metadata": {
  "kernelspec": {
   "display_name": "Python 3",
   "language": "python",
   "name": "python3"
  },
  "language_info": {
   "codemirror_mode": {
    "name": "ipython",
    "version": 3
   },
   "file_extension": ".py",
   "mimetype": "text/x-python",
   "name": "python",
   "nbconvert_exporter": "python",
   "pygments_lexer": "ipython3",
   "version": "3.6.3"
  }
 },
 "nbformat": 4,
 "nbformat_minor": 4
}
